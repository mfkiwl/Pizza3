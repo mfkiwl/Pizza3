{
 "cells": [
  {
   "cell_type": "markdown",
   "id": "6e59ba89-9471-4bae-a1a1-7e9ee60770a9",
   "metadata": {},
   "source": [
    "## **Mathematical Notations and Capabilities in `param()`**\n",
    "> working document exemplifying the evaluation/substitution rules enforced in Pizza3\n",
    "> \n",
    "> ⚠️ some issues have been identified, they are fixed in the meantime\n",
    "\n",
    "The `param()` class extends the `struct` class and allows **dynamic evaluation** of expressions, **implicit calculations**, and **NumPy-style operations**. \n",
    "\n",
    "*Note: Matlab inputs are also enabled as shorthands.*"
   ]
  },
  {
   "cell_type": "markdown",
   "id": "94193909-7c5d-455e-b985-2bb8641a7e80",
   "metadata": {},
   "source": [
    "### Manage dependencies\n",
    "It is mandatory to import NumPy as np (internal convention) if NumPy arrays are defined in strings"
   ]
  },
  {
   "cell_type": "code",
   "execution_count": 30,
   "id": "77b746d4-e1b6-4e53-98a5-0512b551a53c",
   "metadata": {},
   "outputs": [],
   "source": [
    "# assuming that cwd is Pizza3/ main folder\n",
    "# check it with :\n",
    "'''\n",
    "# check it with\n",
    "import os\n",
    "current_dir = os.getcwd()\n",
    "print(current_dir)\n",
    "'''\n",
    "# import NumPy\n",
    "import numpy as np\n",
    "# import param from mstruct module\n",
    "from pizza.private.mstruct import param\n",
    "# small function to display the value and the type of type after evaluation\n",
    "prettyprint = lambda var,value: print(f\"{var} = {value} (type: {type(value).__name__})\")"
   ]
  },
  {
   "cell_type": "markdown",
   "id": "29bc502f-f06e-48cb-ac08-6a3055a23198",
   "metadata": {},
   "source": [
    "### **1. General Expression Substitution**\n",
    "- Mathematical expressions are stored in strings `\"\"` involving numbers, variables, and operators/functions\n",
    "- Expressions inside **`${}`** are evaluated dynamically (beyond the simple substitution of ${var} by its content).\n",
    "- Evaluations support **scalars, lists, NumPy arrays**, and **expressions**.\n",
    "- Expressions can be extended outside `${}` and involve the combination of several `{}` contents\n",
    "- Indexing \n",
    "\n",
    "#### **Example**\n"
   ]
  },
  {
   "cell_type": "code",
   "execution_count": 68,
   "id": "f36cf036-ff62-4ace-8316-d94a4d7bfe16",
   "metadata": {},
   "outputs": [],
   "source": [
    "p = param()                    # initialize param. Note that can use also `p = param(a=..., b=...)`\n",
    "p.a  = [1.0, 0.2, 0.03, 0.004] # Python list\n",
    "p.b  = np.array([p.a])         # Converts a as row vector\n",
    "p.c = \"10\"                     # A number can be stored in a string\n",
    "p.d = \"${a[1]}+${c}\"           # Retrieves `a[1]` = 0.2 and add 10 `0.2 + 10`\n",
    "p.e = \"${b[0,1]} + ${a[0]}\"    # Evaluates as `0.2 + 1.0`\n",
    "p.f = \"${a}[1]+${c}\"           # This notation also works (equivalent to c for the part `${a}[1]`) `0.2 + 10`\n",
    "p.g = \"${b}[0,1] + ${a}[0]\"    # However, it should be avoided with NumPy arrays (see below)"
   ]
  },
  {
   "cell_type": "markdown",
   "id": "2ff2f856-aa22-4937-ab29-0197793f519d",
   "metadata": {},
   "source": [
    "✅ **Supported Operations**\n",
    "\n",
    "- Indexing **lists and arrays**.\n",
    "- Using **mathematical operators** like `+`, `-`, `*`, `/`."
   ]
  },
  {
   "cell_type": "code",
   "execution_count": 70,
   "id": "06e90429-fe86-45b4-aae8-612135fc1bff",
   "metadata": {},
   "outputs": [
    {
     "name": "stdout",
     "output_type": "stream",
     "text": [
      "  -------------:----------------------------------------\n",
      "              a: [1.0, 0.2, 0.03, 0.004]\n",
      "               = [1.0, 0.2, 0.03, 0.004]\n",
      "              b: [1 0.2 0.03 0.004] (double)\n",
      "              c: 10\n",
      "               = 10\n",
      "              d: ${a[1]}+${c}\n",
      "               = 10.2\n",
      "              e: ${b[0,1]} + ${a[0]}\n",
      "               = 1.2\n",
      "              f: ${a}[1]+${c}\n",
      "               = 10.2\n",
      "              g: ${b}[0,1] + ${a}[0]\n",
      "               = [[1.0, 0.2, 0.03, 0. [...] 0.2, 0.03, 0.004][0]\n",
      "  -------------:----------------------------------------\n"
     ]
    },
    {
     "data": {
      "text/plain": [
       "parameter list (param object) with 7 definitions"
      ]
     },
     "execution_count": 70,
     "metadata": {},
     "output_type": "execute_result"
    }
   ],
   "source": [
    "# à la Matlab practice, type the variable to see its content\n",
    "p\n",
    "# alternatively use repr(p)"
   ]
  },
  {
   "cell_type": "markdown",
   "id": "1896b57d-95b8-4246-b850-06a06e84f063",
   "metadata": {},
   "source": [
    "**Global evaluation**\n",
    "\n",
    "    - Principles:\n",
    "        a) the variables are evaluated in sequence following their definition order.\n",
    "        b) an error message is shown if a variable is undefined.\n",
    "        c) use `paramauto()` if the order of execution needs to be guessed\n",
    "        d) the depth of the evaluation is also determined by the context\n",
    "        e) use escape sequences `\\${var}` if some expressions should not be evaluated\n",
    "        f) add `$` at the beginning of an expression to prevent its evaluation/substitution"
   ]
  },
  {
   "cell_type": "code",
   "execution_count": 100,
   "id": "4874d0a8-2ff8-46a1-a641-0b1f23efc497",
   "metadata": {},
   "outputs": [
    {
     "name": "stdout",
     "output_type": "stream",
     "text": [
      "  -------------:----------------------------------------\n",
      "              a: [1.0, 0.2, 0.03, 0.004]\n",
      "              b: [1 0.2 0.03 0.004] (double)\n",
      "              c: 10\n",
      "              d: 10.2\n",
      "              e: 1.2\n",
      "              f: 10.2\n",
      "              g: [[1.0, 0.2, 0.03, 0. [...] 0.2, 0.03, 0.004][0]\n",
      "              i: ${a}\n",
      "              j: [[1.0, 0.2, 0.03, 0. [...]   , 0.03 , 0.004]])]\n",
      "  -------------:----------------------------------------\n"
     ]
    },
    {
     "data": {
      "text/plain": [
       "structure (struct object) with 9 fields"
      ]
     },
     "execution_count": 100,
     "metadata": {},
     "output_type": "execute_result"
    }
   ],
   "source": [
    "p.i = \"\\${a}+1\"        # escape `${a}` to prevent its substitution\n",
    "p.j = [\"a\",\"b\"]\n",
    "s = p() # equivalent to s = p.eval()\n",
    "s\n"
   ]
  },
  {
   "cell_type": "markdown",
   "id": "63e001b0-6e4d-4ff5-8f16-76c9267cbcef",
   "metadata": {},
   "source": [
    "    - interpretation"
   ]
  },
  {
   "cell_type": "code",
   "execution_count": 76,
   "id": "72fa8bd5-4aa3-437e-9a94-41a2beaa9da3",
   "metadata": {},
   "outputs": [
    {
     "name": "stdout",
     "output_type": "stream",
     "text": [
      "Inner and outer indexing are similar for list\n",
      "  -------------:----------------------------------------\n",
      "              d: 10.2\n",
      "              f: 10.2\n",
      "  -------------:----------------------------------------\n",
      "All values are numeric (float)\n",
      "d = 10.2 (type: float)\n",
      "f = 10.2 (type: float)\n",
      "\n",
      " Inner and outer indexing are not similar for NumPy arrays\n",
      "  -------------:----------------------------------------\n",
      "              e: 1.2\n",
      "              g: [[1.0, 0.2, 0.03, 0. [...] 0.2, 0.03, 0.004][0]\n",
      "  -------------:----------------------------------------\n",
      "only the first value (d) is numeric\n",
      "e = 1.2 (type: float)\n",
      "g = [[1.0, 0.2, 0.03, 0.004]][0,1] + [1.0, 0.2, 0.03, 0.004][0] (type: str)\n",
      "avoid using outer indexing and keep it within \"{}\"\n"
     ]
    }
   ],
   "source": [
    "# evaluate all expressions and store them in s\n",
    "s = p() # equivalent to s = p.eval() \n",
    "# c and e are equivalent\n",
    "print(\"Inner and outer indexing are similar for list\")\n",
    "repr(p(\"d\",\"f\")) # show the evaluation of c and e\n",
    "print('All values are numeric (float)')\n",
    "prettyprint(\"d\",s.d)\n",
    "prettyprint(\"f\",s.f)\n",
    "# d and f are not equivalent\n",
    "print(\"\\n\",\"Inner and outer indexing are not similar for NumPy arrays\")\n",
    "repr(p(\"e\",\"g\")) # show the evaluation of d and f\n",
    "print(\"only the first value (d) is numeric\")\n",
    "prettyprint(\"e\",s.e)\n",
    "prettyprint(\"g\",s.g)\n",
    "print('avoid using outer indexing and keep it within \"{}\"')"
   ]
  },
  {
   "cell_type": "markdown",
   "id": "4b45ff5c-4add-492e-b498-300ce4139ee4",
   "metadata": {},
   "source": [
    "**Special case of nested evaluations**\n",
    "\n",
    "Expressions can be included in lists. Each list can mix numbers, text, and expressions.\n",
    "The context will be used to "
   ]
  },
  {
   "cell_type": "code",
   "execution_count": 15,
   "id": "b8ad2f21-c94f-4df9-b438-fb6d41b8ab6b",
   "metadata": {},
   "outputs": [
    {
     "name": "stdout",
     "output_type": "stream",
     "text": [
      "b[3] result is a string \"1\"\n",
      "c[3] result is a number 1\n",
      "\"b[3]*10\" result is a number 10\n",
      "\"c[3]*10\" result is a number 10\n",
      "  -------------:----------------------------------------\n",
      "              a: [0, 1, 2]\n",
      "               = [0, 1, 2]\n",
      "              b: [1,2,\"test\",\"${a[1]}\"]\n",
      "               = [1, 2, 'test', '1']\n",
      "              c: ![1,2,\"test\",\"${a[1]}\"]\n",
      "               = [1, 2, 'test', 1]\n",
      "              d: ${b[3]}*10\n",
      "               = 10\n",
      "              e: ${c[3]}*10\n",
      "               = 10\n",
      "              f: [1, 2, 'test', '${a[1]}']\n",
      "               = [1, 2, 'test', 1]\n",
      "  -------------:----------------------------------------\n"
     ]
    },
    {
     "data": {
      "text/plain": [
       "parameter list (param object) with 6 definitions"
      ]
     },
     "execution_count": 15,
     "metadata": {},
     "output_type": "execute_result"
    }
   ],
   "source": [
    "p = param()\n",
    "p.a = [0,1,2]                   # this list is numeric and is already in Python\n",
    "p.b = '[1,2,\"test\",\"${a[1]}\"]'  # this list combines param expressions\n",
    "p.c = '![1,2,\"test\",\"${a[1]}\"]' # the `!` to force numerical evaluation of expressions in lists\n",
    "p.d = \"${b[3]}*10\"              # the expressions can be combined together\n",
    "p.e = \"${c[3]}*10\"              # the expressions can be combined together\n",
    "p.f = [1,2,\"test\",\"${a[1]}\"]    # evaluations are also applied in native Python lists\n",
    "s = p.eval()\n",
    "print(f'b[3] result is a string \"{s.b[3]}\"')\n",
    "print(f'c[3] result is a number {s.c[3]}')\n",
    "print(f'\"b[3]*10\" result is a number {s.d}')\n",
    "print(f'\"c[3]*10\" result is a number {s.e}')\n",
    "p"
   ]
  },
  {
   "cell_type": "code",
   "execution_count": 17,
   "id": "84586feb-6d70-456e-bcf7-93859dbf7a1d",
   "metadata": {},
   "outputs": [],
   "source": [
    "# create p and assign some values\n",
    "p = param()\n",
    "p.a = \"$[1:3]\"           # Becomes `[1, 2, 3]`\n",
    "p.b = \"$[1;2;3]\"         # Becomes `[[1];[2];[3]]`\n",
    "p.c = \"$[0.1:0.1:0.9]\"   # `[0.1, 0.2, 0.3, ..., 0.9]`\n",
    "p.d = \"$[1 2 3; 4 5 6]\"  # `[[1,2,3], [4,5,6]]`\n"
   ]
  },
  {
   "cell_type": "code",
   "execution_count": 21,
   "id": "b37cd672-34a2-4ca3-ab46-cde85835c49f",
   "metadata": {},
   "outputs": [
    {
     "name": "stdout",
     "output_type": "stream",
     "text": [
      "  -------------:----------------------------------------\n",
      "              a: $[1:3]\n",
      "               = [1 2 3] (int64)\n",
      "              b: $[1;2;3]\n",
      "               = [1 2 3]T (int64)\n",
      "              c: $[0.1:0.1:0.9]\n",
      "               = [0.1 0.2 0.3 0.4 0.5 0.6 0.7 0.8 0.9] (double)\n",
      "              d: $[1 2 3; 4 5 6]\n",
      "               = [2×3 int64]\n",
      "  -------------:----------------------------------------\n"
     ]
    },
    {
     "data": {
      "text/plain": [
       "parameter list (param object) with 4 definitions"
      ]
     },
     "execution_count": 21,
     "metadata": {},
     "output_type": "execute_result"
    }
   ],
   "source": [
    "# à la Matlab practice, type the variable to see its content\n",
    "# note the notation [1 2 3]T where T means transpose\n",
    "# display matches NumPy outputs\n",
    "p"
   ]
  },
  {
   "cell_type": "markdown",
   "id": "b0a5ad0c-efb1-4764-b138-3b9ad9172976",
   "metadata": {},
   "source": []
  },
  {
   "cell_type": "code",
   "execution_count": null,
   "id": "2d63b17e-b0b7-4dc2-915a-49ccb4469423",
   "metadata": {},
   "outputs": [],
   "source": []
  }
 ],
 "metadata": {
  "kernelspec": {
   "display_name": "Python [conda env:base] *",
   "language": "python",
   "name": "conda-base-py"
  },
  "language_info": {
   "codemirror_mode": {
    "name": "ipython",
    "version": 3
   },
   "file_extension": ".py",
   "mimetype": "text/x-python",
   "name": "python",
   "nbconvert_exporter": "python",
   "pygments_lexer": "ipython3",
   "version": "3.10.15"
  }
 },
 "nbformat": 4,
 "nbformat_minor": 5
}
