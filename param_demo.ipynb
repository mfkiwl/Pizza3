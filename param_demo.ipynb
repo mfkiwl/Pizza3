{
 "cells": [
  {
   "cell_type": "markdown",
   "id": "6e59ba89-9471-4bae-a1a1-7e9ee60770a9",
   "metadata": {},
   "source": [
    "## **Mathematical Notations and Capabilities in `param()`**\n",
    "\n",
    "The `param()` class extends the `struct` class and allows **dynamic evaluation** of expressions, **implicit calculations**, and **NumPy-style operations**. Instances of this class are iterable and can be managed using a Matlab-like syntax.\n",
    "\n",
    "*Note: Matlab inputs are also enabled as shorthands.*"
   ]
  },
  {
   "cell_type": "markdown",
   "id": "94193909-7c5d-455e-b985-2bb8641a7e80",
   "metadata": {},
   "source": [
    "### Manage dependencies\n",
    "It is mandatory to import NumPy as `np` (internal convention) if NumPy arrays are defined in strings.\n",
    "The following snippet also shows how to check the current working directory (if needed)"
   ]
  },
  {
   "cell_type": "code",
   "execution_count": 15,
   "id": "77b746d4-e1b6-4e53-98a5-0512b551a53c",
   "metadata": {},
   "outputs": [],
   "source": [
    "# assuming that cwd is Pizza3/ main folder\n",
    "# check it with :\n",
    "'''\n",
    "# control snippet\n",
    "import os\n",
    "current_dir = os.getcwd()\n",
    "print(current_dir)\n",
    "'''\n",
    "import numpy as np\n",
    "from pizza.private.mstruct import param\n",
    "\n",
    "def prettyprint(var, value):\n",
    "    \"\"\"Display the variable's name, its value, and its type after evaluation.\"\"\"\n",
    "    print(f\"{var} = {value} (type: {type(value).__name__})\")"
   ]
  },
  {
   "cell_type": "markdown",
   "id": "69dd62eb-1e9b-4b25-b1c8-9f055a2255b6",
   "metadata": {},
   "source": [
    "### **1. Overview**\n",
    "The `param()` class uses fields/attributes to store values and expressions. Fields define variables, which can be\n",
    "accessed with the syntax `${var}`. For instance, if you create an instance as `p = param(var=value, ...)`, then:\n",
    "\n",
    "- `p.var` returns the value of `${var}`.\n",
    "- `p.var = value` assigns or changes the value.\n",
    "- `p(\"var\")` returns the evaluated value of `${var}` considering the current context.\n",
    "\n",
    "Expressions are defined as strings. An expression can represent either a valid mathematical expression or an abstract\n",
    "string used for templating. Unlike Python's built-in `eval()` function, the context determines whether the result is\n",
    "numeric or remains a string. Vectorial calculus is enabled by using the shorthand `@{matrix}` instead of `${matrix}`.\n",
    "\n",
    "Interpolation (substitution) and evaluation are performed in the following order:\n",
    "- **Direct interpolation/substitution:** e.g., `\"the content of var is ${var}\"`.\n",
    "- **Local evaluation with a text result:** e.g., `\"the sum of variables ${var1+var2}\"`, `\"the third value is ${var[2]}\"`,\n",
    "  or `\"the sum is ${sum(var)}\"`.\n",
    "- **Full evaluation with a numeric result:** e.g., `\"${var}\"`, `\"@{vector}.T\"`, or `\"@{matrix1} @ @{matrix2}\"`.\n",
    "- **Mixed evaluation in a list:** e.g., `[\"var=${myvar}\"`, `\"sum=${mylist}\"`, `\"@{matrix1} @ @{matrix2}\"]`.\n",
    "\n",
    "If a complete evaluation is not possible, the final result is stored with 4 significant digits by default (the precision can be increased if needed).\n",
    "\n",
    "Expressions must combine only operators (`+`, `*`, `**`, etc.), built-in functions (`sum`, `prod`, etc.), mathematical functions (`sin`, `pi`, etc.), and NumPy functions (prefixed with `np.`) and operators (`@`, `.T`). Some statistics functions are also available.\n",
    "\n",
    "Variables can be defined as strings (e.g., `\"1.0\"`) or as numbers (`1.0` for float or int), and they can be scalar or complex. When using text expressions, it is possible to define matrices and n-dimensional arrays using Matlab (`$[1 2 3; 4 5 6]`), NumPy (`$[[1,2,3];[4,5,6]]`), or hybrid notations (`$[[1 2 3; 4 5 6],[7 8 9; 10 11 12]]`).\n",
    "Theoretically, variables can be any Matlab type (including class instances), though in practice lists or NumPy nd-arrays are recommended. Matlab and hybrid shorthands have been implemented for 1D vectors (row or column) up to 4D arrays, including expansions (e.g., `\"$[1:10]\"` or `\"$[1:0.5:10]\"`).\n",
    "\n",
    "⚠️ **Warning:** Variables are evaluated in the order they are defined; use the `paramauto()` class instead if the order needs to be guessed or resolved. In contrast to Python f-strings, where expressions are dynamically re-evaluated, changing one field/variable in a `param` instance affects all others. Use the method `s = p.eval()` (or equivalently `s = p()`) to convert a dynamic `param` instance into a static structure `s`.\n",
    "\n",
    "If an error occurs during evaluation, the evaluated value is replaced by an error message.\n",
    "\n",
    "Instances of `param` are iterable and can be managed as lists or collections (e.g., using `p[5]`, `p[1:10:2]`, `p[[0,3,8]]`).\n",
    "\n",
    "Multiple `param` instances can be merged together using the `+` operator:\n",
    "    \n",
    "    pmerged = poriginal + pupdate"
   ]
  },
  {
   "cell_type": "markdown",
   "id": "7bc93829-2dc6-429f-bbb4-6d98701ba6b1",
   "metadata": {},
   "source": [
    "### **2. Define variables**\n",
    "- **Basic syntax:** Create an instance with `p = param()` and then define variables as:\n",
    "  \n",
    "      p.var = value\n",
    "      p.var = \"value\"\n",
    "      p.var = \"expression\"\n",
    "  \n",
    "- You can also initialize variables directly: `p = param(var1=..., var2=...)`.\n",
    "- Accessing a variable: `p.var` or `getattr(p, \"var\")` returns the raw value of `${var}`.\n",
    "- To obtain a static structure, use `s = p()` or `s = p.eval()`.\n",
    "- Evaluate specific variables with `p(\"var1\", \"var2\", ...)`.\n",
    "- Prefix a string with `$` to designate it as a literal (i.e., not an expression).\n",
    "- For debugging evaluation issues, use `p = param(debug=True)`.\n",
    "- **Avoid** using a variable named `${e}` to prevent confusion with `exp(1)`."
   ]
  },
  {
   "cell_type": "markdown",
   "id": "96fea3e7-4977-4e77-865f-f2a57295a6d1",
   "metadata": {},
   "source": [
    "**Literal expressions**\n",
    "\n",
    "For legacy support, literal expressions can be defined either by:\n",
    "- Adding the prefix `$` to the expression (e.g., `\"$ab\"`), or\n",
    "- Placing the expression inside a list (e.g., `[\"ab\"]`).\n",
    "\n",
    "The latest versions of `param()` can automatically detect literals that cannot be evaluated.\n"
   ]
  },
  {
   "cell_type": "markdown",
   "id": "b28b76af-97cd-4b4e-87cd-566d7879cd24",
   "metadata": {},
   "source": [
    "**Literal Expressions Example**\n",
    "This example demonstrates how to use literal expressions with `param()`:\n",
    "- `line1`: A raw string that escapes `${a}` to prevent substitution.\n",
    "- `line2`: A list of strings.\n",
    "- `line3`: A string that interpolates a value from `line2`.\n",
    "- `ab`: A variable holding the literal `\"AB\"`.\n",
    "- `line4`: A literal expression where the `$` prefix preserves the literal value of `ab`.\n",
    "- `line5`: A plain string `\"ab\"`.\n",
    "- `line6`: A string `\"sin(x)\"` that will not generate an error.\n",
    "- `line7`: An expression `\"${sin(x)}\"` which will generate an error since `x` is not defined.\n",
    "\n",
    "The evaluated static structure is obtained by calling `l()`."
   ]
  },
  {
   "cell_type": "code",
   "execution_count": 2,
   "id": "c72ee054-9ef2-4bc3-a1ca-f51519960e8f",
   "metadata": {},
   "outputs": [
    {
     "name": "stdout",
     "output_type": "stream",
     "text": [
      "The values of l:\n",
      "  -------------:----------------------------------------\n",
      "          line1: \\${a}+1\n",
      "               = ${a}+1\n",
      "          line2: ['a', 'b']\n",
      "               = ['a', 'b']\n",
      "          line3: The first letter in  [...] e2} is \"${line2[0]}\"\n",
      "               = The first letter in ['a', 'b'] is \"a\"\n",
      "             ab: AB\n",
      "               = AB\n",
      "          line4: $ab\n",
      "               = ab\n",
      "          line5: ab\n",
      "               = ab\n",
      "          line6: sin(x)\n",
      "               = sin(x)\n",
      "          line7: ${sin(x)}\n",
      "               = <Error: Variable or function 'x' is not defined>\n",
      "  -------------:----------------------------------------\n",
      "parameter list (param object) with 8 definitions\n",
      "\n",
      "the static content of l\n",
      "  -------------:----------------------------------------\n",
      "          line1: ${a}+1\n",
      "          line2: ['a', 'b']\n",
      "          line3: The first letter in ['a', 'b'] is \"a\"\n",
      "             ab: AB\n",
      "          line4: ab\n",
      "          line5: ab\n",
      "          line6: sin(x)\n",
      "          line7: <Error: Variable or  [...]  'x' is not defined>\n",
      "  -------------:----------------------------------------\n"
     ]
    },
    {
     "data": {
      "text/plain": [
       "structure (struct object) with 8 fields"
      ]
     },
     "execution_count": 2,
     "metadata": {},
     "output_type": "execute_result"
    }
   ],
   "source": [
    "l = param()\n",
    "l.line1 = r\"\\${a}+1\"        # escape `${a}` to prevent its substitution\n",
    "l.line2 = [\"a\",\"b\"]\n",
    "l.line3 = 'The first letter in {line2} is \"${line2[0]}\"'\n",
    "l.ab = \"AB\"\n",
    "l.line4 = \"$ab\"\n",
    "l.line5 = \"ab\"\n",
    "l.line6 = \"sin(x)\" # it will not generate an error\n",
    "l.line7 = \"${sin(x)}\" # it will generate an error since x is not defined\n",
    "print('The values of l:')\n",
    "print(repr(l))\n",
    "print('\\nthe static content of l')\n",
    "s = l() # equivalent to s = p.eval()\n",
    "s"
   ]
  },
  {
   "cell_type": "markdown",
   "id": "03fe18bc-b348-4fbd-9ef3-853ca34619eb",
   "metadata": {},
   "source": [
    "**Numeric examples**\n",
    "This example demonstrates basic numeric assignments:\n",
    "- `p.a` is assigned the float `10.0`.\n",
    "- `p.b` is assigned the string `\"10\"`, representing the number 10.\n",
    "- `p.c` is assigned a literal string `\"$10\"` (thus it is not interpreted as a number).\n",
    "- `p.d` is defined as a Python list of numbers.\n",
    "- `p.f` is created by converting `p.d` into a NumPy array (as a row vector)."
   ]
  },
  {
   "cell_type": "code",
   "execution_count": 3,
   "id": "c762ab47-df82-404f-91b9-923f9f4b1d26",
   "metadata": {},
   "outputs": [],
   "source": [
    "p = param()                    # initialize param. Note that can use also `p = param(a=..., b=...)`\n",
    "p.a = 10.0                     # number 10 as float\n",
    "p.b = \"10\"                     # number 10 stored as a string\n",
    "p.c = \"$10\"                    # characters \"1\" and \"0\" (not a number)\n",
    "p.d  = [1.0, 0.2, 0.03, 0.004] # Python list\n",
    "p.f  = np.array([p.d])         # Converts a as row vector"
   ]
  },
  {
   "cell_type": "markdown",
   "id": "29bc502f-f06e-48cb-ac08-6a3055a23198",
   "metadata": {},
   "source": [
    "### **3. Interpolation and local evaluation**\n",
    "\n",
    "This section demonstrates the interpolation and local evaluation capabilities:\n",
    "\n",
    "- **Simple interpolation/substitution:** `${var}` is replaced by its content.\n",
    "- **Mathematical expressions:** Expressions within `${}` are evaluated in place.\n",
    "- **Local evaluation:** Supports scalars, lists, NumPy arrays, and expressions.\n",
    "- **Indexing:** Use `${var[i]}` or `${var[I,j]}` to index into arrays or matrices.\n",
    "- **Escaping:** Use `\\${...}` to prevent execution of the interpolation.\n",
    "\n",
    "✅ **Supported Operations**\n",
    "- Indexing of lists and arrays.\n",
    "- Mathematical operations using operators like `+`, `-`, `*`, `/`.`**`\n",
    "\n",
    "✅ **Supported Mathematical Functions**\n",
    "- Built-in functions: `abs`, `round`, `min`, `max`, `sum`, `divmod`.\n",
    "- Functions from the `math` module such as `pi`, `e`, `nan`, `inf`.\n",
    "- NumPy functions (with the `np.` prefix) and operators such as `@` and `.T`.\n",
    "- Statistics functions: `gauss`, `uniform`, `randint`, `choice`.\n"
   ]
  },
  {
   "cell_type": "markdown",
   "id": "9ac2239b-c8d3-471b-b4fc-d7e8e01edbcc",
   "metadata": {},
   "source": [
    "#### **Scalar evaluations Example**\n",
    "The following examples show scalar evaluations:\n",
    "- `p.g` evaluates an expression that retrieves `d[1]` and adds `b`.\n",
    "- `p.h` evaluates an expression combining an element from the NumPy array `f` and an element from `d`.\n",
    "- `p.i` demonstrates that the notation `${d}[1] + ${b}` is equivalent to a global evaluation.\n",
    "- `p.j` uses a similar pattern for matrix operations but mixing outer indexing is not recommended.\n",
    "\n",
    "*Note: It is recommended not to mix global and local expressions (especially for indexing with NumPy arrays).*"
   ]
  },
  {
   "cell_type": "code",
   "execution_count": 4,
   "id": "f36cf036-ff62-4ace-8316-d94a4d7bfe16",
   "metadata": {},
   "outputs": [
    {
     "name": "stdout",
     "output_type": "stream",
     "text": [
      "  -------------:----------------------------------------\n",
      "              a: 10.0\n",
      "              b: 10\n",
      "               = 10\n",
      "              c: $10\n",
      "               = 10\n",
      "              d: [1.0, 0.2, 0.03, 0.004]\n",
      "               = [1.0, 0.2, 0.03, 0.004]\n",
      "              f: [1 0.2 0.03 0.004] (double)\n",
      "              g: ${d[1]}+${b}\n",
      "               = 10.2\n",
      "              h: ${f[0,1]} + ${d[0]}\n",
      "               = 1.2\n",
      "              i: ${d}[1]+${b}\n",
      "               = 10.2\n",
      "              j: ${f}[0,1] + ${d}[0]\n",
      "               = [[1.0, 0.2, 0.03, 0. [...] 0.2, 0.03, 0.004][0]\n",
      "  -------------:----------------------------------------\n"
     ]
    },
    {
     "data": {
      "text/plain": [
       "parameter list (param object) with 9 definitions"
      ]
     },
     "execution_count": 4,
     "metadata": {},
     "output_type": "execute_result"
    }
   ],
   "source": [
    "p.g = \"${d[1]}+${b}\"           # Retrieves `a[1]` = 0.2 and add 10 `0.2 + 10`\n",
    "p.h = \"${f[0,1]} + ${d[0]}\"    # Evaluates as `0.2 + 1.0`\n",
    "p.i = \"${d}[1]+${b}\"           # This notation also works but via global evaluation (equivalent to c for the part `${a}[1]`) `0.2 + 10`\n",
    "p.j = \"${f}[0,1] + ${d}[0]\"    # However, it should be avoided with implicit NumPy arrays (see below)\n",
    "# à la Matlab practice, type the variable to see its content\n",
    "p # alternatively use repr(p)"
   ]
  },
  {
   "cell_type": "markdown",
   "id": "1590bae2-0728-4f8d-b382-75c346cfc63e",
   "metadata": {},
   "source": [
    "**Evaluation and Display of Scalar Evaluations**\n",
    "The following code evaluates all expressions (using `p()`) and displays:\n",
    "- The equivalence between inner and outer indexing for lists.\n",
    "- The differences for NumPy arrays, where only the first value (`h`) is numeric.\n",
    "- A warning to avoid using outer indexing outside of `${...}`."
   ]
  },
  {
   "cell_type": "code",
   "execution_count": 5,
   "id": "77900ac6-4dea-451f-93e7-35d8db4fe1af",
   "metadata": {},
   "outputs": [
    {
     "name": "stdout",
     "output_type": "stream",
     "text": [
      "Inner and outer indexing are similar for list\n",
      "  -------------:----------------------------------------\n",
      "              g: 10.2\n",
      "              i: 10.2\n",
      "  -------------:----------------------------------------\n",
      "All values are numeric (float)\n",
      "g = 10.2 (type: float)\n",
      "i = 10.2 (type: float)\n",
      "\n",
      " Inner and outer indexing are not similar for NumPy arrays\n",
      "  -------------:----------------------------------------\n",
      "              h: 1.2\n",
      "              j: [[1.0, 0.2, 0.03, 0. [...] 0.2, 0.03, 0.004][0]\n",
      "  -------------:----------------------------------------\n",
      "only the first value (h) is numeric\n",
      "h = 1.2 (type: float)\n",
      "j = [[1.0, 0.2, 0.03, 0.004]][0,1] + [1.0, 0.2, 0.03, 0.004][0] (type: str)\n",
      "avoid using outer indexing and keep it within \"{}\"\n"
     ]
    }
   ],
   "source": [
    "# evaluate all expressions and store them in s\n",
    "s = p() # equivalent to s = p.eval() \n",
    "# c and e are equivalent\n",
    "print(\"Inner and outer indexing are similar for list\")\n",
    "repr(p(\"g\",\"i\")) # show the evaluation of c and e\n",
    "print('All values are numeric (float)')\n",
    "prettyprint(\"g\",s.g)\n",
    "prettyprint(\"i\",s.i)\n",
    "# d and f are not equivalent\n",
    "print(\"\\n\",\"Inner and outer indexing are not similar for NumPy arrays\")\n",
    "repr(p(\"h\",\"j\")) # show the evaluation of d and f\n",
    "print(\"only the first value (h) is numeric\")\n",
    "prettyprint(\"h\",s.h)\n",
    "prettyprint(\"j\",s.j)\n",
    "print('avoid using outer indexing and keep it within \"{}\"')"
   ]
  },
  {
   "cell_type": "markdown",
   "id": "2ff2f856-aa22-4937-ab29-0197793f519d",
   "metadata": {},
   "source": [
    "#### **List and Nested Evaluations**\n",
    "This section demonstrates that variables can hold multiple values and that results are stored in lists:\n",
    "\n",
    "*Note: the special character `!` can be placed in front of expressions using lists as results (e.g., `\"![\"${myvar}\",${sum(myvar)+offset}]\"` to force recursive execution if it is not guessed internally.*"
   ]
  },
  {
   "cell_type": "markdown",
   "id": "67cd41b9-93a6-4822-bdd3-30c919ae6a35",
   "metadata": {},
   "source": [
    "**Text Example**\n",
    "\n",
    "In the following example, `q.units` is a literal string (with the `$` prefix).\n",
    "\n",
    "- `q.a` is a list containing a literal string and another literal.\n",
    "- `q.b` uses interpolation to reference `units`.\n",
    "- `q.c` shows a string with both interpolation and an escaped placeholder."
   ]
  },
  {
   "cell_type": "code",
   "execution_count": 6,
   "id": "06e90429-fe86-45b4-aae8-612135fc1bff",
   "metadata": {},
   "outputs": [
    {
     "name": "stdout",
     "output_type": "stream",
     "text": [
      "  -------------:----------------------------------------\n",
      "          units: $si\n",
      "               = si\n",
      "              a: ['units', '$lj']\n",
      "               = ['units', 'lj']\n",
      "              b: ['units', '${units}']\n",
      "               = ['units', 'si']\n",
      "              c: the ${a[0]} are ${un [...] fined with \\${units}\n",
      "               = the units are si as  [...] efined with ${units}\n",
      "  -------------:----------------------------------------\n"
     ]
    },
    {
     "data": {
      "text/plain": [
       "parameter list (param object) with 4 definitions"
      ]
     },
     "execution_count": 6,
     "metadata": {},
     "output_type": "execute_result"
    }
   ],
   "source": [
    "q = param()\n",
    "q.units = \"$si\"                # literal string (no interpolation)\n",
    "q.a = [\"units\",\"$lj\"] \n",
    "q.b = [\"units\",\"${units}\"]\n",
    "q.c = \"the ${a[0]} are ${units} as defined with \\\\${units}\"\n",
    "q"
   ]
  },
  {
   "cell_type": "markdown",
   "id": "0cbc9788-cd1f-4696-9490-828671d9098f",
   "metadata": {},
   "source": [
    "**Text/Numeric Evaluation Example**\n",
    "This example mixes text and numeric evaluations:\n",
    "- `r.a` is a numeric list.\n",
    "- `r.b` is provided as a string that represents a list with param expressions.\n",
    "- `r.c` uses the `!` prefix to force recursive evaluation of expressions in lists.\n",
    "- `r.d` and `r.e` combine expressions from other list entries.\n",
    "- `r.f` is a list containing a mixture of expressions and literal values."
   ]
  },
  {
   "cell_type": "code",
   "execution_count": 7,
   "id": "7e9aff52-3b32-4460-bf41-9fab8bcaa93b",
   "metadata": {},
   "outputs": [
    {
     "name": "stdout",
     "output_type": "stream",
     "text": [
      "  -------------:----------------------------------------\n",
      "              a: [0, 1, 2]\n",
      "               = [0, 1, 2]\n",
      "              b: [1,2,\"test\",\"${a[1]}\"]\n",
      "               = [1, 2, 'test', '1']\n",
      "              c: ![1,2,\"test\",\"${a[1]}\"]\n",
      "               = [1, 2, 'test', 1]\n",
      "              d: ${b[3]}*10\n",
      "               = 10\n",
      "              e: ${c[3]}*10\n",
      "               = 10\n",
      "              f: ['${a[1]+a[2]}*3', 1 [...] 2]}', '${1+2}', 'b']\n",
      "               = [9, 1, 2, 'test', 1, 3, 3, 'b']\n",
      "  -------------:----------------------------------------\n"
     ]
    },
    {
     "data": {
      "text/plain": [
       "parameter list (param object) with 6 definitions"
      ]
     },
     "execution_count": 7,
     "metadata": {},
     "output_type": "execute_result"
    }
   ],
   "source": [
    "r = param()\n",
    "r.a = [0,1,2]                   # this list is numeric and is already in Python\n",
    "r.b = '[1,2,\"test\",\"${a[1]}\"]'  # this list combines param expressions\n",
    "r.c = '![1,2,\"test\",\"${a[1]}\"]' # the `!` to force recursive evaluation of expressions in lists\n",
    "r.d = \"${b[3]}*10\"              # the expressions can be combined together\n",
    "r.e = \"${c[3]}*10\"              # the expressions can be combined together\n",
    "r.f = [\"${a[1]+a[2]}*3\", 1,2,\"test\",\"${a[1]}\", \"${a[1]+a[2]}\", \"${1+2}\", \"b\"]\n",
    "r"
   ]
  },
  {
   "cell_type": "markdown",
   "id": "d221bf84-ae84-4fd6-8f6c-7a02b8b22812",
   "metadata": {},
   "source": [
    "**Additional Numeric Example**\n",
    "\n",
    "This example defines a param instance `t` with parameters `o` and `p`. Then:\n",
    "- `t.a` is constructed as a list containing `${o}` and `${p}`.\n",
    "- `t.b` computes the sum of the elements in `a`.\n",
    "- `t.c` calculates the maximum surface area using `pi` and the maximum value in `a`."
   ]
  },
  {
   "cell_type": "code",
   "execution_count": 8,
   "id": "67fb36bc-185c-4cc2-b9f4-b896d444e3bd",
   "metadata": {},
   "outputs": [
    {
     "name": "stdout",
     "output_type": "stream",
     "text": [
      "  -------------:----------------------------------------\n",
      "              o: 10\n",
      "              p: 100\n",
      "              a: [${o},${p}]\n",
      "               = [10, 100]\n",
      "              b: the sum of a is ${sum(a)}\n",
      "               = the sum of a is 110\n",
      "              c: the maximum surface  [...] a is ${pi*max(a)**2}\n",
      "               = the maximum surface  [...] s 31415.926535897932\n",
      "  -------------:----------------------------------------\n"
     ]
    },
    {
     "data": {
      "text/plain": [
       "parameter list (param object) with 5 definitions"
      ]
     },
     "execution_count": 8,
     "metadata": {},
     "output_type": "execute_result"
    }
   ],
   "source": [
    "t = param(o=10,p=100)\n",
    "t.a = \"[${o},${p}]\"\n",
    "t.b = \"the sum of a is ${sum(a)}\"\n",
    "t.c = \"the maximum surface area is ${pi*max(a)**2}\"\n",
    "t"
   ]
  },
  {
   "cell_type": "markdown",
   "id": "bc89317d-fbf6-40c2-964a-e3e4210c8143",
   "metadata": {},
   "source": [
    "#### 4. **Mathematical shorthands for vectors, matrices, 3D and 4D arrays**\n",
    "Lists cannot be directly used as vectors and must be converted into NumPy arrays before performing vectorized operations.\n",
    "The `param()` class offers several shorthands to seamlessly manipulate arrays using text expressions:\n",
    "\n",
    "- **1D:** `$[1 2 3]` → `np.atleast_2d(np.array([1,2,3]))`\n",
    "- **2D:** `$[[1 2],[3 4]]` → `np.array([[1,2],[3,4]])`\n",
    "- **3D:** `$[[[1 2],[3 4]],[[5 6],[7 8]]]` → `np.array([[[1,2],[3,4]],[[5,6],[7,8]]])`\n",
    "- **4D:** `$[[[[1 2]]]]` → `np.array([[[[1,2]]]])`\n",
    "\n",
    "**Variable References:**\n",
    "- `@{var}` is equivalent to `np.atleast_2d(np.array(${var}))`.\n",
    "\n",
    "**Transpose:**\n",
    "- Use `@{var}.T` to transpose.\n",
    "\n",
    "**Function Application:**\n",
    "- Apply a function to a vector with: `np.foo(@var)`.\n",
    "\n",
    "**Slicing:**\n",
    "- `${var[:,0]}` converts a slice into a list.\n",
    "- `@{var}[:,0]` preserves the slice as a NumPy array.\n",
    "\n",
    "**Matlab Notations Supported:**\n",
    "- Automatic row vector expansion using `$[start:stop]` or `$[start:step:stop]`.\n",
    "- Spaces can be used to separate values row-wise.\n",
    "- Semicolons (`;`) separate rows.\n",
    "\n",
    "**Examples:**\n",
    "- `$[1, 2  ${var1} ; 4, 5  ${var2}]` is equivalent to `$[[1,2,${var1}],[4,5,${var2}]]`\n",
    "- `$[1;2; 3]` becomes `$[[1],[2],[3]]`\n",
    "- `[[-0.5, 0.5;-0.5, 0.5],[ -0.5,  0.5; -0.5,  0.5]]` becomes `$[[[-0.5,0.5],[-0.5,0.5]],[[-0.5,0.5],[-0.5,0.5]]]`\n",
    "- `$[[1,2;3,4],[5,6; 7,8]]` becomes `$[[[1,2],[3,4]],[[5,6],[7,8]]]`\n",
    "- `$[1, 2, 3; 4, 5, 6]` becomes `$[[1,2,3],[4,5,6]]`"
   ]
  },
  {
   "cell_type": "markdown",
   "id": "e862c3f5-986d-43a9-a158-cee04f35cd99",
   "metadata": {},
   "source": [
    "**Simple Definitions Example**\n",
    "\n",
    "This example demonstrates simple definitions using Matlab-style notations:\n",
    "- `e.a` uses `$[1:3]` to create the vector `[1, 2, 3]`.\n",
    "- `e.b` uses `$[1;2;3]` to create a column vector `[[1],[2],[3]]`.\n",
    "- `e.c` uses `$[0.1:0.1:0.9]` to create the vector `[0.1, 0.2, ..., 0.9]`.\n",
    "- `e.d` defines a 2D matrix with `$[1 2 3; 4 5 6]`."
   ]
  },
  {
   "cell_type": "code",
   "execution_count": 9,
   "id": "c236f8f6-2560-412f-b9cf-1ec74724af9a",
   "metadata": {},
   "outputs": [
    {
     "name": "stdout",
     "output_type": "stream",
     "text": [
      "  -------------:----------------------------------------\n",
      "              a: $[1:3]\n",
      "               = [1 2 3] (int32)\n",
      "              b: $[1;2;3]\n",
      "               = [1 2 3]T (int32)\n",
      "              c: $[0.1:0.1:0.9]\n",
      "               = [0.1 0.2 0.3 0.4 0.5 0.6 0.7 0.8 0.9] (double)\n",
      "              d: $[1 2 3; 4 5 6]\n",
      "               = [2×3 int32]\n",
      "  -------------:----------------------------------------\n"
     ]
    },
    {
     "data": {
      "text/plain": [
       "parameter list (param object) with 4 definitions"
      ]
     },
     "execution_count": 9,
     "metadata": {},
     "output_type": "execute_result"
    }
   ],
   "source": [
    "e = param()\n",
    "e.a = \"$[1:3]\"           # Becomes `[1, 2, 3]`\n",
    "e.b = \"$[1;2;3]\"         # Becomes `[[1];[2];[3]]`\n",
    "e.c = \"$[0.1:0.1:0.9]\"   # `[0.1, 0.2, 0.3, ..., 0.9]`\n",
    "e.d = \"$[1 2 3; 4 5 6]\"  # `[[1,2,3], [4,5,6]]`\n",
    "e"
   ]
  },
  {
   "cell_type": "markdown",
   "id": "c993a79b-cf0b-4535-9397-c1911de71de5",
   "metadata": {},
   "source": [
    "**Matrix Operations Example**\n",
    "\n",
    "This example illustrates simple matrix operations:\n",
    "- `m.a` is a list of numeric values.\n",
    "- `m.b` is a NumPy array created from `m.a` (as a row vector).\n",
    "- `m.c` computes `m.a * 2` (element-wise multiplication for a list).\n",
    "- `m.d` computes `m.b * 2` (element-wise multiplication for a NumPy array).\n",
    "- `m.e` is the transpose of `m.b`.\n",
    "- `m.f` performs matrix multiplication between the transpose of `m.b` and `m.b`.\n",
    "- Variables `m.g` through `m.o` demonstrate various forms of expression evaluation, indexing, and string interpolation.\n",
    "  - Note that `\"@{j}+1\"` and `\"${j}+1\"` do not have the same meaning.\n",
    "- `m.p` uses a raw string (with the `r` prefix) to correctly escape `${a[0]}`."
   ]
  },
  {
   "cell_type": "code",
   "execution_count": 10,
   "id": "bb6aa6f6-8cae-4f78-b217-8de298b04231",
   "metadata": {},
   "outputs": [
    {
     "name": "stdout",
     "output_type": "stream",
     "text": [
      "  -------------:----------------------------------------\n",
      "              a: [1.0, 0.2, 0.03, 0.004]\n",
      "               = [1.0, 0.2, 0.03, 0.004]\n",
      "              b: [1 0.2 0.03 0.004] (double)\n",
      "              c: [1.0, 0.2, 0.03, 0.0 [...] 0, 0.2, 0.03, 0.004]\n",
      "               = [1.0, 0.2, 0.03, 0.0 [...] 0, 0.2, 0.03, 0.004]\n",
      "              d: [2 0.4 0.06 0.008] (double)\n",
      "              e: [1 0.2 0.03 0.004]T (double)\n",
      "              f: [4×4 double]\n",
      "              g: ${a[1]}\n",
      "               = 0.2\n",
      "              h: ${b[0,1]} + ${a[0]}\n",
      "               = 1.2\n",
      "              i: ${f[0,1]}\n",
      "               = 0.2\n",
      "              j: ${f[:,1]}\n",
      "               = [0.2, 0.040000000000 [...] 0001, 0.006, 0.0008]\n",
      "              k: @{j}+1\n",
      "               = [1.2 1.04 1.006 1.001] (double)\n",
      "              l: ${b.T}\n",
      "               = [[1.   ]\n",
      " [0.2  ]\n",
      " [0.03 ]\n",
      " [0.004]]\n",
      "              m: ${b.T @ b}\n",
      "               = [[1.0, 0.2, 0.03, 0. [...] , 0.00012, 1.6e-05]]\n",
      "              n: ${b.T} @ ${b}\n",
      "               = [[1.   ]\n",
      " [0.2  ]\n",
      " [ [...]  0.2   0.03  0.004]]\n",
      "              o: the result is: ${b[0,1]} + ${a[0]}\n",
      "               = the result is: 0.2 + 1.0\n",
      "              p: the value of \\${a[0]} is ${a[0]}\n",
      "               = the value of ${a[0]} is 1.0\n",
      "  -------------:----------------------------------------\n"
     ]
    },
    {
     "data": {
      "text/plain": [
       "parameter list (param object) with 16 definitions"
      ]
     },
     "execution_count": 10,
     "metadata": {},
     "output_type": "execute_result"
    }
   ],
   "source": [
    "# Example with simple matrix operations\n",
    "m=param()\n",
    "m.a = [1.0, .2, .03, .004]\n",
    "m.b = np.array([m.a])\n",
    "m.c = m.a*2\n",
    "m.d = m.b*2\n",
    "m.e = m.b.T\n",
    "m.f = m.b.T@m.b # Matrix multiplication for (3x1) @ (1x3)\n",
    "m.g = \"${a[1]}\"\n",
    "m.h = \"${b[0,1]} + ${a[0]}\"\n",
    "m.i = \"${f[0,1]}\"\n",
    "m.j = \"${f[:,1]}\"\n",
    "m.k = \"@{j}+1\"  # note that \"@{j}+1\" and \"${j}+1\" do not have the same meaning\n",
    "m.l = \"${b.T}\"  # note that b is already a NumPy array (no need to call @(b).T, which works also)\n",
    "m.m = \"${b.T @ b}\"    # evaluate fully the matrix operation\n",
    "m.n = \"${b.T} @ ${b}\" # concatenate two string-results separated by @\n",
    "m.o =\"the result is: ${b[0,1]} + ${a[0]}\"\n",
    "m.p = r\"the value of \\${a[0]} is ${a[0]}\" # literal (r\"  \") is used because \"\\$\" is not a valid escape sequence, use \"\\\\$\" alternatively\n",
    "m"
   ]
  },
  {
   "cell_type": "markdown",
   "id": "6bfa877f-422f-4d94-b03a-827105aa87ed",
   "metadata": {},
   "source": [
    "**Slicing Example**\n",
    "\n",
    "This example demonstrates slicing operations:\n",
    "- `s.a` and `s.b` are scalar values.\n",
    "- `s.c` creates a NumPy vector from an operation.\n",
    "- `s.n` defines a vector using the `$` syntax.\n",
    "- `s.o1` creates a copy of `n` using the `@{}` notation.\n",
    "- `s.o2` creates a NumPy vector directly.\n",
    "- `s.o3` performs multiplication between two vectors.\n",
    "- `s.d` shows another multiplication example using a transpose.\n",
    "- `s.f` uses an explicit NumPy operation.\n",
    "- `s.nT` is the transpose of vector `n`.\n",
    "- `s.m` attempts an illegal operation (it will be kept as a string).\n",
    "- `s.o` shows the correct syntax for the operation.\n",
    "- `s.p` defines a 2D NumPy array.\n",
    "- `s.q` indexes the 2D array to retrieve an element.\n",
    "- `s.r` slices the 2D array, returning a list.\n",
    "- `s.s` applies an operation to the slice, preserving it as a NumPy array."
   ]
  },
  {
   "cell_type": "code",
   "execution_count": 11,
   "id": "067df62b-7671-463d-8267-6762e32255f0",
   "metadata": {},
   "outputs": [
    {
     "name": "stdout",
     "output_type": "stream",
     "text": [
      "  -------------:----------------------------------------\n",
      "              a: 1.0\n",
      "              b: 10.0\n",
      "               = 10.0\n",
      "              c: $[${a},2,3]*${b}\n",
      "               = [10 20 30] (double)\n",
      "              n: $[0,0,1]\n",
      "               = [0 0 1] (int32)\n",
      "             o1: @{n}\n",
      "               = [0 0 1] (int32)\n",
      "             o2: $[${a},2,3]\n",
      "               = [1 2 3] (double)\n",
      "             o3: @{o1} @ @{o2}.T\n",
      "               = 3.0 (double)\n",
      "              d: @{n}.T @ $[[${a},2,3]]\n",
      "               = [3×3 double]\n",
      "              f: ($[${a},2,3]*${b}) @ [...] s.array([[0,0,1]]).T\n",
      "               = (np.atleast_2d(np.ar [...] s.array([[0,0,1]]).T\n",
      "             nT: @{n}.T\n",
      "               = [0 0 1]T (int32)\n",
      "              m: ${n.T}*2\n",
      "               = [[0]\n",
      " [0]\n",
      " [1]]*2\n",
      "              o: @{n}.T*2\n",
      "               = [0 0 2]T (int32)\n",
      "              p: $[[1,2],[3,4]]\n",
      "               = [2×2 int32]\n",
      "              q: ${p[1,1]}\n",
      "               = 4\n",
      "              r: ${p[:,1]}\n",
      "               = [2, 4]\n",
      "              s: @{p}[:,1]+1\n",
      "               = [3 5] (int32)\n",
      "  -------------:----------------------------------------\n"
     ]
    },
    {
     "data": {
      "text/plain": [
       "parameter list (param object) with 16 definitions"
      ]
     },
     "execution_count": 11,
     "metadata": {},
     "output_type": "execute_result"
    }
   ],
   "source": [
    "s = param(debug=True);\n",
    "s.a = 1.0\n",
    "s.b = \"10.0\"\n",
    "s.c = \"$[${a},2,3]*${b}\" # Create a Numpy vector from an operation\n",
    "s.n = \"$[0,0,1]\"         # another one\n",
    "s.o1 = \"@{n}\"          # create a copy\n",
    "s.o2 = \"$[${a},2,3]\" # create a Numpy vector\n",
    "s.o3 = \"@{o1} @ @{o2}.T\" # multiplication between two vectots\n",
    "s.d = \"@{n}.T @ $[[${a},2,3]]\" # another one\n",
    "s.f = \"($[${a},2,3]*${b}) @ ns.array([[0,0,1]]).T\" # another one using explicitly NumPy\n",
    "s.nT = \"@{n}.T\" # transpose of a vector/matrix\n",
    "s.m = \"${n.T}*2\" # this operation is illegal and will be kept as a string\n",
    "s.o = \"@{n}.T*2\" # this one is the correct one\n",
    "s.p = \"$[[1,2],[3,4]]\" # Create a 2D Numpy array\n",
    "s.q = \"${p[1,1]}\"   # index a 2D NumPy array\n",
    "s.r = \"${p[:,1]}\"   # this is a valid syntax to get the slice as a list\n",
    "s.s = \"@{p}[:,1]+1\" # use this syntax if you need apply an operation to the slice\n",
    "s"
   ]
  },
  {
   "cell_type": "markdown",
   "id": "f6d78359-601a-4e1b-9465-9d5946df6a77",
   "metadata": {},
   "source": [
    "**Advanced Example**\n",
    "\n",
    "This advanced example demonstrates operations such as:\n",
    "- Defining a vector `V1`.\n",
    "- Computing `V2` as `V1 + 1`.\n",
    "- Performing matrix multiplication between the transpose of `V1` and `V2`.\n",
    "- Creating a diagonal matrix from the resulting product.\n",
    "- Calculating the eigenvalues and eigenvectors of the resulting matrix.\n",
    "- Displaying the first eigenvalue in a formatted string."
   ]
  },
  {
   "cell_type": "code",
   "execution_count": 12,
   "id": "812fc336-067f-41ca-8b0a-07cf3d1b6124",
   "metadata": {},
   "outputs": [
    {
     "name": "stdout",
     "output_type": "stream",
     "text": [
      "  -------------:----------------------------------------\n",
      "             V1: $[1.0,0.2,0.03]\n",
      "               = [1 0.2 0.03] (double)\n",
      "             V2: @{V1}+1\n",
      "               = [2 1.2 1.03] (double)\n",
      "             V3: @{V1}.T @ @{V2}\n",
      "               = [3×3 double]\n",
      "             V4: np.diag(@{V3})\n",
      "               = [2 0.24 0.0309] (double)\n",
      "             V5: np.linalg.eig(@{V3})\n",
      "               = EigResult(eigenvalue [...] 332, -0.06057363]]))\n",
      "            out: the first eigenvalue [...] ${V5.eigenvalues[0]}\n",
      "               = the first eigenvalue [...] s: 2.270900000000001\n",
      "  -------------:----------------------------------------\n"
     ]
    },
    {
     "data": {
      "text/plain": [
       "parameter list (param object) with 6 definitions"
      ]
     },
     "execution_count": 12,
     "metadata": {},
     "output_type": "execute_result"
    }
   ],
   "source": [
    "a = param(debug=True)\n",
    "a.V1 = \"$[1.0,0.2,0.03]\"\n",
    "a.V2 = \"@{V1}+1\"\n",
    "a.V3 = \"@{V1}.T @ @{V2}\"\n",
    "a.V4 = \"np.diag(@{V3})\"\n",
    "a.V5 = \"np.linalg.eig(@{V3})\"\n",
    "a.out = \"the first eigenvalue is: ${V5.eigenvalues[0]}\"\n",
    "a"
   ]
  },
  {
   "cell_type": "markdown",
   "id": "1896b57d-95b8-4246-b850-06a06e84f063",
   "metadata": {},
   "source": [
    "### 5. **Global evaluation**\n",
    "\n",
    "A global evaluation is attempted for all expressions after interpolation and local evaluations have been performed.\n",
    "If the global evaluation does not raise any error, the evaluated result is kept; otherwise, the original interpolated\n",
    "expression is preserved. Since several expressions involving matrix operations require global evaluation (i.e., outside\n",
    "of `${...}` or `@{...}`), it is recommended to define mathematically valid expressions and, if needed, use separate\n",
    "variables to store results as text.\n"
   ]
  },
  {
   "cell_type": "markdown",
   "id": "b1b9c312-53fd-4681-985c-6ff23db7bb74",
   "metadata": {},
   "source": [
    "**Global Evaluation Example with NumPy**\n",
    "\n",
    "This example demonstrates global evaluation:\n",
    "- `u.p` creates a 2D NumPy array.\n",
    "- `u.q` indexes the array to retrieve an element.\n",
    "- `u.r` adds 1 to the second column of `p`.\n",
    "- `u.s` reshapes a slice and performs matrix multiplication in a Matlab-like manner.\n",
    "- `u.t` computes the eigenvalues and eigenvectors of the resulting matrix.\n",
    "- `u.w` calculates the sum of the first two eigenvalues.\n",
    "- `u.x` horizontally concatenates a literal with the sum of the eigenvalues."
   ]
  },
  {
   "cell_type": "code",
   "execution_count": 13,
   "id": "4874d0a8-2ff8-46a1-a641-0b1f23efc497",
   "metadata": {},
   "outputs": [
    {
     "name": "stdout",
     "output_type": "stream",
     "text": [
      "  -------------:----------------------------------------\n",
      "              p: $[[1, 2], [3, 4]]\n",
      "               = [2×2 int32]\n",
      "              q: ${p[1, 1]}\n",
      "               = 4\n",
      "              r: @{p}[:,1] + 1\n",
      "               = [3 5] (int32)\n",
      "              s: @{p}[:, 1].reshape(-1, 1) @ @{r}\n",
      "               = [2×2 int32]\n",
      "              t: np.linalg.eig(@{s})\n",
      "               = EigResult(eigenvalue [...] 576, -0.89442719]]))\n",
      "              w: ${t.eigenvalues[0]}  [...]  ${t.eigenvalues[1]}\n",
      "               = 26.0\n",
      "              x: $[[0,${t.eigenvalues [...] {t.eigenvalues[1]}]]\n",
      "               = [0 26] (double)\n",
      "  -------------:----------------------------------------\n"
     ]
    },
    {
     "data": {
      "text/plain": [
       "parameter list (param object) with 7 definitions"
      ]
     },
     "execution_count": 13,
     "metadata": {},
     "output_type": "execute_result"
    }
   ],
   "source": [
    "u = param(debug=True)\n",
    "u.p = \"$[[1, 2], [3, 4]]\"      # Create a 2D NumPy array\n",
    "u.q = \"${p[1, 1]}\"             # Indexing: retrieves 4\n",
    "u.r = \"@{p}[:,1] + 1\"          # Add 1 to the second column\n",
    "u.s = \"@{p}[:, 1].reshape(-1, 1) @ @{r}\" # perform p(:,1)'*s in Matlab sense\n",
    "u.t = \"np.linalg.eig(@{s})\"\n",
    "u.w = \"${t.eigenvalues[0]} + ${t.eigenvalues[1]}\" # sum of eigen values\n",
    "u.x = \"$[[0,${t.eigenvalues[0]}+${t.eigenvalues[1]}]]\" # horizontal concat à la Matlab\n",
    "u"
   ]
  },
  {
   "cell_type": "markdown",
   "id": "51444ead-9430-4316-bc6a-ace749266a82",
   "metadata": {},
   "source": [
    "**Global Evaluation Example with Various Matrix and ND- Operations**\n",
    "\n",
    "This example demonstrates various matrix operations:\n",
    "- A list `l` is defined.\n",
    "- Vectors and matrices (`a`, `b`, `c`) are created using Matlab-style notations.\n",
    "- Element-wise and matrix operations are performed.\n",
    "- More complex structures (`x0`, `y0`, `z0`) are defined using multiple operations.\n",
    "- Finally, the results are flattened into vectors `X0`, `Y0`, and `Z0`."
   ]
  },
  {
   "cell_type": "code",
   "execution_count": 14,
   "id": "ce8222e1-0619-4f59-a46b-ba20a52a4ae7",
   "metadata": {},
   "outputs": [
    {
     "name": "stdout",
     "output_type": "stream",
     "text": [
      "  -------------:----------------------------------------\n",
      "              l: [0.001, 0.002, 0.003]\n",
      "               = [0.001, 0.002, 0.003]\n",
      "              a: $[1 2 3]\n",
      "               = [1 2 3] (int32)\n",
      "              b: $[1:3]\n",
      "               = [1 2 3] (int32)\n",
      "              c: $[0.1:0.1:0.9]\n",
      "               = [0.1 0.2 0.3 0.4 0.5 0.6 0.7 0.8 0.9] (double)\n",
      "          scale: @{l}*2*@{a}\n",
      "               = [0.002 0.008 0.018] (double)\n",
      "             x0: $[[[-0.5, -0.5],[-0. [...] cale[0,0]}*${a[0,0]}\n",
      "               = [[2×2 matrix] [2×2 matrix]] (2×2×2 double)\n",
      "             y0: $[[[-0.5, -0.5],[0.5 [...] cale[0,1]}*${a[0,1]}\n",
      "               = [[2×2 matrix] [2×2 matrix]] (2×2×2 double)\n",
      "             z0: $[[-0.5 0.5 ;-0.5 0. [...] ]]*${l[2]}*${a[0,2]}\n",
      "               = [[2×2 matrix] [2×2 matrix]] (2×2×2 double)\n",
      "             X0: @{x0}.flatten()\n",
      "               = [-0.001 -0.001 -0.001 -0.001 0.001 0.001 0.001 0.001] (double)\n",
      "             Y0: @{y0}.flatten()\n",
      "               = [-0.008 -0.008 0.008 0.008 -0.008 -0.008 0.008 0.008] (double)\n",
      "             Z0: @{z0}.flatten()\n",
      "               = [-0.0045 0.0045 -0.0045 0.0045 -0.0045 0.0045 -0.0045 0.0045] (double)\n",
      "  -------------:----------------------------------------\n"
     ]
    },
    {
     "data": {
      "text/plain": [
       "parameter list (param object) with 11 definitions"
      ]
     },
     "execution_count": 14,
     "metadata": {},
     "output_type": "execute_result"
    }
   ],
   "source": [
    "v = param()\n",
    "v.l = [1e-3, 2e-3, 3e-3]    # l is defined as a list\n",
    "v.a = \"$[1 2 3]\"            # a is defined with  Matlab notations\n",
    "v.b = \"$[1:3]\"              # b is defined with  Matlab notations\n",
    "v.c = \"$[0.1:0.1:0.9]\"      # c is defined with  Matlab notations\n",
    "v.scale = \"@{l}*2*@{a}\"     # l is rescaled\n",
    "v.x0 = \"$[[[-0.5, -0.5],[-0.5, -0.5]],[[ 0.5,  0.5],[ 0.5,  0.5]]]*${scale[0,0]}*${a[0,0]}\"\n",
    "v.y0 = \"$[[[-0.5, -0.5],[0.5, 0.5]],[[ -0.5,  -0.5],[ 0.5,  0.5]]]*${scale[0,1]}*${a[0,1]}\"\n",
    "v.z0 = \"$[[-0.5 0.5 ;-0.5 0.5],[ -0.5,  0.5;  -0.5,  0.5]]*${l[2]}*${a[0,2]}\"\n",
    "v.X0 = \"@{x0}.flatten()\"\n",
    "v.Y0 = \"@{y0}.flatten()\"\n",
    "v.Z0 = \"@{z0}.flatten()\"\n",
    "v"
   ]
  }
 ],
 "metadata": {
  "kernelspec": {
   "display_name": "Python 3 (ipykernel)",
   "language": "python",
   "name": "python3"
  },
  "language_info": {
   "codemirror_mode": {
    "name": "ipython",
    "version": 3
   },
   "file_extension": ".py",
   "mimetype": "text/x-python",
   "name": "python",
   "nbconvert_exporter": "python",
   "pygments_lexer": "ipython3",
   "version": "3.12.7"
  }
 },
 "nbformat": 4,
 "nbformat_minor": 5
}
